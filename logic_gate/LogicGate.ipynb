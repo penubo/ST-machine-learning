{
 "cells": [
  {
   "cell_type": "code",
   "execution_count": 16,
   "metadata": {},
   "outputs": [],
   "source": [
    "import numpy as np\n",
    "\n",
    "def sigmoid(x):\n",
    "    return 1 / (1 + np.exp(-x))\n",
    "\n",
    "def numerical_derivative(f, x):\n",
    "    delta_x = 1e-4\n",
    "    grad = np.zeros_like(x)\n",
    "    \n",
    "    it = np.nditer(x, flags=['multi_index'], op_flags=['readwrite'])\n",
    "    \n",
    "    while not it.finished:\n",
    "        idx = it.multi_index\n",
    "        tmp_val = x[idx]\n",
    "        x[idx] = float(tmp_val) + delta_x\n",
    "        fx1 = f(x)\n",
    "        \n",
    "        x[idx] = tmp_val - delta_x\n",
    "        fx2 = f(x)\n",
    "        grad[idx] = (fx1 - fx2) / (2*delta_x)\n",
    "        \n",
    "        x[idx] = tmp_val\n",
    "        it.iternext()\n",
    "        \n",
    "    return grad\n",
    "\n",
    "class LogicGate:\n",
    "    \n",
    "    def __init__(self, gate_name, xdata, tdata):\n",
    "        \n",
    "        self.name = gate_name\n",
    "        \n",
    "        self.__xdata = xdata.reshape(4, 2)\n",
    "        self.__tdata = tdata.reshape(4, 1)\n",
    "        \n",
    "        self.__W = np.random.rand(2, 1)\n",
    "        self.__b = np.random.rand(1)\n",
    "        \n",
    "        self.__learning_rate = 1e-2\n",
    "        \n",
    "    def __loss_func(self):\n",
    "        \n",
    "        delta = 1e-7 # prevent log infinite\n",
    "        \n",
    "        z = np.dot(self.__xdata, self.__W) + self.__b\n",
    "        y = sigmoid(z)\n",
    "        \n",
    "        # cross-entropy\n",
    "        return -np.sum( self.__tdata * np.log(y + delta) + (1 - self.__tdata)*np.log((1 - y)+ delta))\n",
    "    \n",
    "    def error_val(self):\n",
    "        \n",
    "        delta = 1e-7 # prevent log infinite\n",
    "        \n",
    "        z = np.dot(self.__xdata, self.__W) + self.__b\n",
    "        y = sigmoid(z)\n",
    "        \n",
    "        # cross-entropy\n",
    "        return -np.sum( self.__tdata * np.log(y + delta) + (1 - self.__tdata)*np.log((1 - y)+ delta))\n",
    "    \n",
    "    def train(self):\n",
    "        \n",
    "        f = lambda x : self.__loss_func()\n",
    "        \n",
    "        print('Initial error value = ', self.error_val())\n",
    "        \n",
    "        for step in range(8001):\n",
    "            \n",
    "            self.__W -= self.__learning_rate * numerical_derivative(f, self.__W)\n",
    "            self.__b -= self.__learning_rate * numerical_derivative(f, self.__b)\n",
    "            \n",
    "            if (step % 400 == 0):\n",
    "                print('step = ', step, 'error value = ', self.error_val())\n",
    "        \n",
    "    def predict(self, input_data):\n",
    "        \n",
    "        z = np.dot(input_data, self.__W) + self.__b\n",
    "        y = sigmoid(z)\n",
    "        result = None\n",
    "        \n",
    "        if y > 0.5:\n",
    "            result = 1\n",
    "        else:\n",
    "            result = 0\n",
    "        return y, result\n",
    "        "
   ]
  },
  {
   "cell_type": "code",
   "execution_count": 17,
   "metadata": {},
   "outputs": [
    {
     "name": "stdout",
     "output_type": "stream",
     "text": [
      "Initial error value =  4.556951932130256\n",
      "step =  0 error value =  4.498904482429985\n",
      "step =  400 error value =  1.5053127839495228\n",
      "step =  800 error value =  1.126254701557297\n",
      "step =  1200 error value =  0.9084796629197299\n",
      "step =  1600 error value =  0.7637813196702856\n",
      "step =  2000 error value =  0.6593769736221974\n",
      "step =  2400 error value =  0.5800183790308118\n",
      "step =  2800 error value =  0.5174854934692172\n",
      "step =  3200 error value =  0.46688138529704654\n",
      "step =  3600 error value =  0.4250750112461265\n",
      "step =  4000 error value =  0.3899570293433581\n",
      "step =  4400 error value =  0.36004824609504554\n",
      "step =  4800 error value =  0.33427783004156963\n",
      "step =  5200 error value =  0.3118502021979708\n",
      "step =  5600 error value =  0.29216135587280256\n",
      "step =  6000 error value =  0.27474421784982794\n",
      "step =  6400 error value =  0.2592318279138879\n",
      "step =  6800 error value =  0.24533185410567893\n",
      "step =  7200 error value =  0.23280854451485744\n",
      "step =  7600 error value =  0.22146968806774917\n",
      "step =  8000 error value =  0.2111570274609136\n"
     ]
    },
    {
     "data": {
      "text/plain": [
       "(array([0.05973297]), 0)"
      ]
     },
     "execution_count": 17,
     "metadata": {},
     "output_type": "execute_result"
    }
   ],
   "source": [
    "x_data = np.array([[1, 1], [1, 0], [0, 1], [0, 0]])\n",
    "t_data = np.array([1, 0, 0, 0])\n",
    "\n",
    "logic_gate = LogicGate('AND_Gate', x_data, t_data)\n",
    "\n",
    "logic_gate.train()\n",
    "logic_gate.predict(np.array([1, 0]))"
   ]
  },
  {
   "cell_type": "code",
   "execution_count": 13,
   "metadata": {},
   "outputs": [
    {
     "data": {
      "text/plain": [
       "(array([0.05994639]), 0)"
      ]
     },
     "execution_count": 13,
     "metadata": {},
     "output_type": "execute_result"
    }
   ],
   "source": [
    "logic_gate.predict([0, 1])"
   ]
  },
  {
   "cell_type": "code",
   "execution_count": null,
   "metadata": {},
   "outputs": [],
   "source": []
  }
 ],
 "metadata": {
  "kernelspec": {
   "display_name": "mcahine-learning",
   "language": "python",
   "name": "mcahine-learning"
  },
  "language_info": {
   "codemirror_mode": {
    "name": "ipython",
    "version": 3
   },
   "file_extension": ".py",
   "mimetype": "text/x-python",
   "name": "python",
   "nbconvert_exporter": "python",
   "pygments_lexer": "ipython3",
   "version": "3.8.6"
  }
 },
 "nbformat": 4,
 "nbformat_minor": 4
}
